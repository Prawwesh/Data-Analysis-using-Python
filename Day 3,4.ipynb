{
 "cells": [
  {
   "cell_type": "markdown",
   "id": "6c813f49-d365-4592-b79f-732b39e53145",
   "metadata": {},
   "source": [
    "## Operations"
   ]
  },
  {
   "cell_type": "code",
   "execution_count": 1,
   "id": "ed54ac1f-e6bd-4ff5-b9a1-fe52a4d09544",
   "metadata": {},
   "outputs": [
    {
     "name": "stdout",
     "output_type": "stream",
     "text": [
      "x=  8.166666666666666 y=  0.16666666666666607\n"
     ]
    }
   ],
   "source": [
    "x=7*(3+8-4)/6\n",
    "y=x%2\n",
    "z=y**3\n",
    "\n",
    "\n",
    "k=z//3\n",
    "print(\"x= \",x,\"y= \",y)"
   ]
  },
  {
   "cell_type": "code",
   "execution_count": 2,
   "id": "05c90c25-2269-4948-bc55-2324d158a863",
   "metadata": {},
   "outputs": [
    {
     "data": {
      "text/plain": [
       "7"
      ]
     },
     "execution_count": 2,
     "metadata": {},
     "output_type": "execute_result"
    }
   ],
   "source": [
    "x=3\n",
    "x+= 4\n",
    "x"
   ]
  },
  {
   "cell_type": "code",
   "execution_count": 3,
   "id": "a2511d08-512d-43cb-b759-1dc02417b2a3",
   "metadata": {},
   "outputs": [
    {
     "data": {
      "text/plain": [
       "3"
      ]
     },
     "execution_count": 3,
     "metadata": {},
     "output_type": "execute_result"
    }
   ],
   "source": [
    "x=8\n",
    "x-=5\n",
    "x"
   ]
  },
  {
   "cell_type": "code",
   "execution_count": 4,
   "id": "3246ab4e-92cb-45b1-9d94-c00feb6ad626",
   "metadata": {},
   "outputs": [
    {
     "data": {
      "text/plain": [
       "0"
      ]
     },
     "execution_count": 4,
     "metadata": {},
     "output_type": "execute_result"
    }
   ],
   "source": [
    "x=8\n",
    "x%=4\n",
    "x"
   ]
  },
  {
   "cell_type": "markdown",
   "id": "1658bd02-aa7b-44b4-9a0c-b0906513149a",
   "metadata": {},
   "source": [
    "\n",
    "2>=4"
   ]
  },
  {
   "cell_type": "code",
   "execution_count": 5,
   "id": "a342a91c-8224-4ac7-8f85-f10ae513bbde",
   "metadata": {},
   "outputs": [
    {
     "data": {
      "text/plain": [
       "True"
      ]
     },
     "execution_count": 5,
     "metadata": {},
     "output_type": "execute_result"
    }
   ],
   "source": [
    "2==2"
   ]
  },
  {
   "cell_type": "code",
   "execution_count": 6,
   "id": "5680c209-efd4-4628-8c26-70874e403d27",
   "metadata": {},
   "outputs": [
    {
     "data": {
      "text/plain": [
       "True"
      ]
     },
     "execution_count": 6,
     "metadata": {},
     "output_type": "execute_result"
    }
   ],
   "source": [
    "#logical operations\n",
    "a=2\n",
    "b=3\n",
    "a>1 and b>2"
   ]
  },
  {
   "cell_type": "code",
   "execution_count": 7,
   "id": "9c4490d5-8fba-4538-9cf2-8e736a41fb51",
   "metadata": {},
   "outputs": [
    {
     "data": {
      "text/plain": [
       "False"
      ]
     },
     "execution_count": 7,
     "metadata": {},
     "output_type": "execute_result"
    }
   ],
   "source": [
    "g=5\n",
    "h=6\n",
    "g==5 and h<3"
   ]
  },
  {
   "cell_type": "code",
   "execution_count": null,
   "id": "95aedbb3-f3fb-48d7-bf7f-536549251b56",
   "metadata": {},
   "outputs": [],
   "source": [
    "\n"
   ]
  },
  {
   "cell_type": "code",
   "execution_count": 8,
   "id": "0f805336-8a65-4267-ba22-62dda2200617",
   "metadata": {},
   "outputs": [
    {
     "ename": "SyntaxError",
     "evalue": "cannot assign to expression (1412962709.py, line 4)",
     "output_type": "error",
     "traceback": [
      "\u001b[0;36m  Cell \u001b[0;32mIn[8], line 4\u001b[0;36m\u001b[0m\n\u001b[0;31m    a >= 5 or b = 4 and c != 5\u001b[0m\n\u001b[0m    ^\u001b[0m\n\u001b[0;31mSyntaxError\u001b[0m\u001b[0;31m:\u001b[0m cannot assign to expression\n"
     ]
    }
   ],
   "source": [
    "a=3\n",
    "b=4\n",
    "c=5\n",
    "a >= 5 or b = 4 and c != 5"
   ]
  },
  {
   "cell_type": "code",
   "execution_count": 9,
   "id": "932e5135-203f-46d7-82c5-4ce272dbef7b",
   "metadata": {},
   "outputs": [
    {
     "data": {
      "text/plain": [
       "True"
      ]
     },
     "execution_count": 9,
     "metadata": {},
     "output_type": "execute_result"
    }
   ],
   "source": [
    "x=3\n",
    "type(x) is int"
   ]
  },
  {
   "cell_type": "code",
   "execution_count": 10,
   "id": "a2003712-6090-434f-8bff-d77f2a9d2e95",
   "metadata": {},
   "outputs": [
    {
     "ename": "SyntaxError",
     "evalue": "cannot assign to expression (968141086.py, line 4)",
     "output_type": "error",
     "traceback": [
      "\u001b[0;36m  Cell \u001b[0;32mIn[10], line 4\u001b[0;36m\u001b[0m\n\u001b[0;31m    a >= 5 or b = 4\u001b[0m\n\u001b[0m    ^\u001b[0m\n\u001b[0;31mSyntaxError\u001b[0m\u001b[0;31m:\u001b[0m cannot assign to expression\n"
     ]
    }
   ],
   "source": [
    "a=3\n",
    "b=4\n",
    "c=5\n",
    "a >= 5 or b = 4 "
   ]
  },
  {
   "cell_type": "code",
   "execution_count": null,
   "id": "d056b246-83a1-4fed-9bd7-237a9777d51d",
   "metadata": {},
   "outputs": [],
   "source": [
    "'h' in 'hello'"
   ]
  },
  {
   "cell_type": "code",
   "execution_count": null,
   "id": "f8fdad0c-7196-42b2-9cb0-0a05affcca4f",
   "metadata": {},
   "outputs": [],
   "source": [
    "'ell' in 'hello'"
   ]
  },
  {
   "cell_type": "code",
   "execution_count": null,
   "id": "065ef490-850f-48fa-9059-ba68a88e17a4",
   "metadata": {},
   "outputs": [],
   "source": [
    "'m' in 'python'"
   ]
  },
  {
   "cell_type": "markdown",
   "id": "9cef93a7-2ec3-4e5e-924b-b9d426859211",
   "metadata": {},
   "source": [
    "## bitwise operations"
   ]
  },
  {
   "cell_type": "code",
   "execution_count": null,
   "id": "21d84ac1-6710-45d2-9140-9ac1c94b7c49",
   "metadata": {},
   "outputs": [],
   "source": [
    "2& 3"
   ]
  },
  {
   "cell_type": "code",
   "execution_count": 17,
   "id": "71d2ab64-f73b-4762-8b15-6e7b03a3f3e2",
   "metadata": {},
   "outputs": [
    {
     "name": "stdout",
     "output_type": "stream",
     "text": [
      "['Sunday', 'Monday', 'Tuesday', 'Wed']\n"
     ]
    },
    {
     "data": {
      "text/plain": [
       "list"
      ]
     },
     "execution_count": 17,
     "metadata": {},
     "output_type": "execute_result"
    }
   ],
   "source": [
    "# list is enclosed in square brackets\n",
    "days_of_week = ['Sunday', 'Monday', 'Tuesday', 'Wed']\n",
    "print(days_of_week)\n",
    "type(days_of_week)"
   ]
  },
  {
   "cell_type": "code",
   "execution_count": 18,
   "id": "2b9ade3c-e862-4224-a8f7-b3c67c203492",
   "metadata": {},
   "outputs": [
    {
     "data": {
      "text/plain": [
       "4"
      ]
     },
     "execution_count": 18,
     "metadata": {},
     "output_type": "execute_result"
    }
   ],
   "source": [
    "len(days_of_week)"
   ]
  },
  {
   "cell_type": "code",
   "execution_count": 19,
   "id": "9b37d5d6-3db7-4e7f-b486-0ce9ec09bbad",
   "metadata": {},
   "outputs": [
    {
     "data": {
      "text/plain": [
       "[1, 3.1, 'Hello', True]"
      ]
     },
     "execution_count": 19,
     "metadata": {},
     "output_type": "execute_result"
    }
   ],
   "source": [
    "my_list = [1, 3.1, 'Hello', True]\n",
    "my_list"
   ]
  },
  {
   "cell_type": "code",
   "execution_count": 20,
   "id": "70efad7f-c05a-46a8-80ac-29adf69a2ce3",
   "metadata": {},
   "outputs": [
    {
     "name": "stdout",
     "output_type": "stream",
     "text": [
      "Tuesday\n"
     ]
    }
   ],
   "source": [
    "print(days_of_week[-2])"
   ]
  },
  {
   "cell_type": "code",
   "execution_count": 21,
   "id": "c3d99452-c524-409d-9452-83fa71987144",
   "metadata": {},
   "outputs": [
    {
     "data": {
      "text/plain": [
       "['Monday', 'Tuesday']"
      ]
     },
     "execution_count": 21,
     "metadata": {},
     "output_type": "execute_result"
    }
   ],
   "source": [
    "days_of_week[1:3] #kunai range lyauna parda #3 garda chai -1 ko value auchha i.e. yeshma 1 ra 2 matra auchha"
   ]
  },
  {
   "cell_type": "code",
   "execution_count": 22,
   "id": "2ac455af-291a-4d42-91a2-37b3fc3549ad",
   "metadata": {},
   "outputs": [
    {
     "data": {
      "text/plain": [
       "['Sunday', 'Monday', 'Tuesday']"
      ]
     },
     "execution_count": 22,
     "metadata": {},
     "output_type": "execute_result"
    }
   ],
   "source": [
    "#indexes starting point bata suru huna,\n",
    "days_of_week[:3]"
   ]
  },
  {
   "cell_type": "code",
   "execution_count": 23,
   "id": "95a8231c-211f-4c5c-88d1-86c36a68dfbc",
   "metadata": {},
   "outputs": [
    {
     "data": {
      "text/plain": [
       "['Tuesday', 'Wed']"
      ]
     },
     "execution_count": 23,
     "metadata": {},
     "output_type": "execute_result"
    }
   ],
   "source": [
    "#pachadi khali chhodne, sabai aucha\n",
    "days_of_week[2:]"
   ]
  },
  {
   "cell_type": "code",
   "execution_count": 24,
   "id": "4e9f1028-0f59-4598-a66c-3ae60f3e718f",
   "metadata": {},
   "outputs": [
    {
     "data": {
      "text/plain": [
       "['Tuesday']"
      ]
     },
     "execution_count": 24,
     "metadata": {},
     "output_type": "execute_result"
    }
   ],
   "source": [
    "days_of_week[2:3] #euta matra auchha"
   ]
  },
  {
   "cell_type": "code",
   "execution_count": 25,
   "id": "7317f3a9-f0b2-4a05-a665-383951b54f19",
   "metadata": {},
   "outputs": [
    {
     "data": {
      "text/plain": [
       "False"
      ]
     },
     "execution_count": 25,
     "metadata": {},
     "output_type": "execute_result"
    }
   ],
   "source": [
    "'Saturday' in days_of_week #check garne"
   ]
  },
  {
   "cell_type": "code",
   "execution_count": 26,
   "id": "8ca13182-ba4c-4fc3-8d18-c8a9916bff4f",
   "metadata": {},
   "outputs": [
    {
     "data": {
      "text/plain": [
       "True"
      ]
     },
     "execution_count": 26,
     "metadata": {},
     "output_type": "execute_result"
    }
   ],
   "source": [
    "'Wed' in days_of_week"
   ]
  },
  {
   "cell_type": "code",
   "execution_count": 27,
   "id": "a3d86d3a-2495-4b48-bea3-9dc280fb96c8",
   "metadata": {},
   "outputs": [
    {
     "data": {
      "text/plain": [
       "['Sunday', 'Mon', 'Tuesday', 'Wed']"
      ]
     },
     "execution_count": 27,
     "metadata": {},
     "output_type": "execute_result"
    }
   ],
   "source": [
    "#changing elements in list\n",
    "days_of_week[1] = \"Mon\"\n",
    "days_of_week"
   ]
  },
  {
   "cell_type": "code",
   "execution_count": 28,
   "id": "f68e43a1-872e-4ba1-90c1-bb8efb5671db",
   "metadata": {},
   "outputs": [
    {
     "name": "stdout",
     "output_type": "stream",
     "text": [
      "['Sunday', 'Mon', 'Tuesday', 'Wed']\n"
     ]
    }
   ],
   "source": [
    "print(days_of_week)"
   ]
  },
  {
   "cell_type": "code",
   "execution_count": 29,
   "id": "d9187627-a611-4e97-b18d-bfa7307a6c72",
   "metadata": {},
   "outputs": [
    {
     "data": {
      "text/plain": [
       "['sun', 'mon', 'Mon', 'Tuesday', 'Wed']"
      ]
     },
     "execution_count": 29,
     "metadata": {},
     "output_type": "execute_result"
    }
   ],
   "source": [
    "days_of_week[0:1] = \"sun\", \"mon\"\n",
    "days_of_week"
   ]
  },
  {
   "cell_type": "code",
   "execution_count": 30,
   "id": "4001b40c-5bdc-4295-936f-ecefeea92dbb",
   "metadata": {},
   "outputs": [
    {
     "name": "stdout",
     "output_type": "stream",
     "text": [
      "['sun', 'mon', 'Mon', 'Tuesday', 'Wed']\n"
     ]
    }
   ],
   "source": [
    "print(days_of_week)\n"
   ]
  },
  {
   "cell_type": "code",
   "execution_count": 31,
   "id": "27b55e5b-de60-42c8-b6c1-292f19664924",
   "metadata": {},
   "outputs": [
    {
     "data": {
      "text/plain": [
       "['sun', 'mon', 'Mon', 'Tuesday', 'Wed']"
      ]
     },
     "execution_count": 31,
     "metadata": {},
     "output_type": "execute_result"
    }
   ],
   "source": [
    "days_of_week"
   ]
  },
  {
   "cell_type": "code",
   "execution_count": 32,
   "id": "6baa12a5-80ee-4cbd-9795-74939f880222",
   "metadata": {},
   "outputs": [
    {
     "data": {
      "text/plain": [
       "['sun', 'Saturday', 'Tuesday', 'Wed']"
      ]
     },
     "execution_count": 32,
     "metadata": {},
     "output_type": "execute_result"
    }
   ],
   "source": [
    "\n",
    "days_of_week[1:3] = [\"Saturday\"]\n",
    "days_of_week"
   ]
  },
  {
   "cell_type": "code",
   "execution_count": 35,
   "id": "755869f5-3a7e-49bb-934a-04a688aad723",
   "metadata": {},
   "outputs": [
    {
     "data": {
      "text/plain": [
       "[2, 5, 3, 6, 4]"
      ]
     },
     "execution_count": 35,
     "metadata": {},
     "output_type": "execute_result"
    }
   ],
   "source": [
    "list1 = [2,5,3,6,4]\n",
    "list1"
   ]
  },
  {
   "cell_type": "code",
   "execution_count": 38,
   "id": "d76c0598-7d43-406a-bbef-bf19bfeb4f88",
   "metadata": {},
   "outputs": [],
   "source": [
    "list1[2:3] = [ 5,7]"
   ]
  },
  {
   "cell_type": "code",
   "execution_count": 39,
   "id": "7346ecc0-a84b-42b1-b0e5-734f32c39534",
   "metadata": {},
   "outputs": [
    {
     "data": {
      "text/plain": [
       "[2, 5, 5, 7, 6, 4]"
      ]
     },
     "execution_count": 39,
     "metadata": {},
     "output_type": "execute_result"
    }
   ],
   "source": [
    "list1"
   ]
  },
  {
   "cell_type": "markdown",
   "id": "f36aa416-dd6a-4c7f-a4ae-398ea6c7de85",
   "metadata": {},
   "source": [
    "## Day 4"
   ]
  },
  {
   "cell_type": "markdown",
   "id": "dbe5221a-ce6f-4ee7-ad1b-ec18de8c8e7b",
   "metadata": {},
   "source": [
    "# Logical Operators Precedence Rules"
   ]
  },
  {
   "cell_type": "code",
   "execution_count": 2,
   "id": "872b8827-9d77-4006-9036-df9979d8e4d6",
   "metadata": {},
   "outputs": [
    {
     "data": {
      "text/plain": [
       "int"
      ]
     },
     "execution_count": 2,
     "metadata": {},
     "output_type": "execute_result"
    }
   ],
   "source": [
    "x=3\n",
    "type(x) #type of x in indeed integeer, so we get true\n"
   ]
  },
  {
   "cell_type": "code",
   "execution_count": 3,
   "id": "c49da46b-14d8-4ae9-abcb-47aa9bd9559b",
   "metadata": {},
   "outputs": [
    {
     "data": {
      "text/plain": [
       "False"
      ]
     },
     "execution_count": 3,
     "metadata": {},
     "output_type": "execute_result"
    }
   ],
   "source": [
    "type(x) is float"
   ]
  },
  {
   "cell_type": "code",
   "execution_count": 8,
   "id": "2c82dd14-eaf6-485b-8aa1-74be1b19aa17",
   "metadata": {},
   "outputs": [
    {
     "data": {
      "text/plain": [
       "[1, 2, 3, 100, 200]"
      ]
     },
     "execution_count": 8,
     "metadata": {},
     "output_type": "execute_result"
    }
   ],
   "source": [
    "my_list = [1,2,3]\n",
    "list_to_add = [100, 200]\n",
    "my_list.extend(list_to_add)\n",
    "my_list\n"
   ]
  },
  {
   "cell_type": "code",
   "execution_count": 9,
   "id": "88f8578a-8ea4-432a-aa23-d715c917aee2",
   "metadata": {},
   "outputs": [
    {
     "data": {
      "text/plain": [
       "[1, 2, 100, 200]"
      ]
     },
     "execution_count": 9,
     "metadata": {},
     "output_type": "execute_result"
    }
   ],
   "source": [
    "#removing list items\n",
    "my_list.remove(3)\n",
    "my_list"
   ]
  },
  {
   "cell_type": "code",
   "execution_count": 10,
   "id": "740cf1e3-9924-4e63-94f3-52fc952dc699",
   "metadata": {},
   "outputs": [],
   "source": [
    "#pop\n",
    "#del\n",
    "#sort-alphabetically\n",
    "#sort-numerically\n",
    "#sort=> .sort(reverse=True)-for sorting by descending order\n",
    "#sort=> .sort(reverse) for reversing the item of the list\n",
    "#copy of list\n",
    "#joining of the list by adding the list\n",
    "\n",
    "\n"
   ]
  },
  {
   "cell_type": "markdown",
   "id": "09111a1e-0a69-48d9-a674-4d1ad92e0553",
   "metadata": {},
   "source": [
    "### python conditionals"
   ]
  },
  {
   "cell_type": "code",
   "execution_count": 14,
   "id": "996ac60a-5ee8-498c-92cb-1404c7969817",
   "metadata": {},
   "outputs": [
    {
     "name": "stdout",
     "output_type": "stream",
     "text": [
      "x is greater than 5\n"
     ]
    }
   ],
   "source": [
    "x=7\n",
    "if x > 5: #please keep in mind that you need to indent the line or lines that you want to be part of the if statement. \n",
    "    #The indentation for all the lines in the if code block neetd to be the same\n",
    " print (\"x is greater than 5\")"
   ]
  },
  {
   "cell_type": "code",
   "execution_count": 23,
   "id": "df064402-b010-4c2d-9842-ea11def34b0d",
   "metadata": {},
   "outputs": [
    {
     "name": "stdout",
     "output_type": "stream",
     "text": [
      "x is greater than 9\n"
     ]
    }
   ],
   "source": [
    "x=10\n",
    "if x>6: \n",
    "  print('x is greater than 9')"
   ]
  },
  {
   "cell_type": "code",
   "execution_count": 24,
   "id": "4796dfcf-062f-4fd7-ace6-76e8ca72a784",
   "metadata": {},
   "outputs": [
    {
     "ename": "TypeError",
     "evalue": "sum() takes at most 2 arguments (3 given)",
     "output_type": "error",
     "traceback": [
      "\u001b[0;31m---------------------------------------------------------------------------\u001b[0m",
      "\u001b[0;31mTypeError\u001b[0m                                 Traceback (most recent call last)",
      "Cell \u001b[0;32mIn[24], line 1\u001b[0m\n\u001b[0;32m----> 1\u001b[0m \u001b[38;5;28msum\u001b[39m(\u001b[38;5;241m1\u001b[39m,\u001b[38;5;241m2\u001b[39m,\u001b[38;5;241m3\u001b[39m)\n",
      "\u001b[0;31mTypeError\u001b[0m: sum() takes at most 2 arguments (3 given)"
     ]
    }
   ],
   "source": [
    "sum(1,2,3)"
   ]
  },
  {
   "cell_type": "code",
   "execution_count": 25,
   "id": "c3f9a229-3a8e-4b0c-9b1e-3993d07f1ca7",
   "metadata": {},
   "outputs": [
    {
     "data": {
      "text/plain": [
       "6"
      ]
     },
     "execution_count": 25,
     "metadata": {},
     "output_type": "execute_result"
    }
   ],
   "source": [
    "sum = lambda x,y,z: x+y+z\n",
    "sum(1,2,3)"
   ]
  },
  {
   "cell_type": "code",
   "execution_count": 26,
   "id": "a0351661-a2e1-42cb-9b5a-db36a9f71bae",
   "metadata": {},
   "outputs": [],
   "source": [
    "#remove ma element nai hanna parchha, indexing hanera hudaina\n"
   ]
  },
  {
   "cell_type": "code",
   "execution_count": 28,
   "id": "60cbe479-c9d1-466e-8d81-9fcf198156ef",
   "metadata": {},
   "outputs": [],
   "source": [
    "#.operators bhanne bittikai we are performing some operations"
   ]
  },
  {
   "cell_type": "code",
   "execution_count": 30,
   "id": "da38182b-d5c5-4c37-963d-10369a3da0bf",
   "metadata": {},
   "outputs": [
    {
     "data": {
      "text/plain": [
       "['One', 'three']"
      ]
     },
     "execution_count": 30,
     "metadata": {},
     "output_type": "execute_result"
    }
   ],
   "source": [
    "x = [\"One\", \"two\", \"three\"] #removing from list\n",
    "x.remove(\"two\")\n",
    "x"
   ]
  },
  {
   "cell_type": "code",
   "execution_count": 33,
   "id": "71a4b734-77b0-4e0d-b0a2-65458ea66222",
   "metadata": {},
   "outputs": [
    {
     "data": {
      "text/plain": [
       "2"
      ]
     },
     "execution_count": 33,
     "metadata": {},
     "output_type": "execute_result"
    }
   ],
   "source": [
    "#pop le pani remove garna sakinxa\n",
    "x = [1,2,3]\n",
    "x.pop()\n",
    "x\n",
    "x.pop(1)"
   ]
  },
  {
   "cell_type": "code",
   "execution_count": 36,
   "id": "d482b1ab-596c-47ab-96cb-7d082aef37e2",
   "metadata": {},
   "outputs": [
    {
     "data": {
      "text/plain": [
       "[2, 3]"
      ]
     },
     "execution_count": 36,
     "metadata": {},
     "output_type": "execute_result"
    }
   ],
   "source": [
    "x = [1,2,3]\n",
    "del x[0]\n",
    "x"
   ]
  },
  {
   "cell_type": "code",
   "execution_count": 37,
   "id": "acc1dace-e1a6-482d-ab12-94987289e1ef",
   "metadata": {},
   "outputs": [],
   "source": [
    "#len ra count ma chai 1 bata nai count hune"
   ]
  },
  {
   "cell_type": "code",
   "execution_count": 40,
   "id": "46533876-0938-48d6-b830-1297beb2164f",
   "metadata": {},
   "outputs": [
    {
     "data": {
      "text/plain": [
       "[]"
      ]
     },
     "execution_count": 40,
     "metadata": {},
     "output_type": "execute_result"
    }
   ],
   "source": [
    "del x[-1]\n",
    "x"
   ]
  },
  {
   "cell_type": "code",
   "execution_count": 42,
   "id": "e5423f31-936f-4b13-be96-8dc061581cd1",
   "metadata": {},
   "outputs": [
    {
     "ename": "NameError",
     "evalue": "name 'x' is not defined",
     "output_type": "error",
     "traceback": [
      "\u001b[0;31m---------------------------------------------------------------------------\u001b[0m",
      "\u001b[0;31mNameError\u001b[0m                                 Traceback (most recent call last)",
      "Cell \u001b[0;32mIn[42], line 1\u001b[0m\n\u001b[0;32m----> 1\u001b[0m \u001b[38;5;28;01mdel\u001b[39;00m x\n\u001b[1;32m      2\u001b[0m x\n",
      "\u001b[0;31mNameError\u001b[0m: name 'x' is not defined"
     ]
    }
   ],
   "source": [
    "del x\n",
    "x\n"
   ]
  },
  {
   "cell_type": "code",
   "execution_count": 44,
   "id": "04c99170-f52f-42d5-94dd-ef24a453537a",
   "metadata": {},
   "outputs": [
    {
     "data": {
      "text/plain": [
       "[]"
      ]
     },
     "execution_count": 44,
     "metadata": {},
     "output_type": "execute_result"
    }
   ],
   "source": [
    "x = [1,2,3]\n",
    "x.clear()\n",
    "x"
   ]
  },
  {
   "cell_type": "code",
   "execution_count": 49,
   "id": "b3591d0c-17cb-4189-b1ca-7c443cc5f6ca",
   "metadata": {},
   "outputs": [
    {
     "data": {
      "text/plain": [
       "['Pra', 'Men', 'Jyo']"
      ]
     },
     "execution_count": 49,
     "metadata": {},
     "output_type": "execute_result"
    }
   ],
   "source": [
    "x= [\"Pra\", \"Jyo\", \"Men\"]\n",
    "x.sort(reverse=True)\n",
    "x"
   ]
  },
  {
   "cell_type": "code",
   "execution_count": 46,
   "id": "7070d9b4-8399-4efa-8d64-41f26c0cc871",
   "metadata": {},
   "outputs": [
    {
     "data": {
      "text/plain": [
       "[293, 1883, 2019, 4993]"
      ]
     },
     "execution_count": 46,
     "metadata": {},
     "output_type": "execute_result"
    }
   ],
   "source": [
    "x= [1883,4993,293,2019]\n",
    "x.sort()\n",
    "x"
   ]
  },
  {
   "cell_type": "code",
   "execution_count": 47,
   "id": "15d15005-2530-457f-a9ca-a644a51bef77",
   "metadata": {},
   "outputs": [
    {
     "data": {
      "text/plain": [
       "['Men', 'Pra', 'jyo']"
      ]
     },
     "execution_count": 47,
     "metadata": {},
     "output_type": "execute_result"
    }
   ],
   "source": [
    "x= [\"Pra\", \"jyo\", \"Men\"]\n",
    "x.sort()\n",
    "x"
   ]
  },
  {
   "cell_type": "code",
   "execution_count": 48,
   "id": "d0aa7849-8992-4dc6-9ec4-6155a1db9d87",
   "metadata": {},
   "outputs": [
    {
     "data": {
      "text/plain": [
       "[4993, 2019, 1883, 293]"
      ]
     },
     "execution_count": 48,
     "metadata": {},
     "output_type": "execute_result"
    }
   ],
   "source": [
    "x= [1883,4993,293,2019] #for descending order\n",
    "x.sort(reverse=True)\n",
    "x"
   ]
  },
  {
   "cell_type": "code",
   "execution_count": 50,
   "id": "9517ddf3-ddbb-4228-8600-19225ef2767d",
   "metadata": {},
   "outputs": [],
   "source": [
    "#. bhanne bittikai kehi operation hudai xa bhanera bujhna parne"
   ]
  },
  {
   "cell_type": "code",
   "execution_count": 56,
   "id": "7b34947d-7eb8-413e-92e4-a3a9253e3328",
   "metadata": {},
   "outputs": [
    {
     "data": {
      "text/plain": [
       "['Gom', 'Jan', 'Jyo', 'men', 'Pra', 'ren']"
      ]
     },
     "execution_count": 56,
     "metadata": {},
     "output_type": "execute_result"
    }
   ],
   "source": [
    "x= [\"Pra\", \"Jyo\", \"men\", \"Jan\", \"ren\", \"Gom\"]\n",
    "x.sort(key = str.lower)\n",
    "x"
   ]
  },
  {
   "cell_type": "code",
   "execution_count": 57,
   "id": "05b1dd8d-043e-42d9-9b69-bdc6f8163762",
   "metadata": {},
   "outputs": [],
   "source": [
    "#shift ra tab hanesi bracket bhitra k k hanna milchha tyo dekhinxa"
   ]
  },
  {
   "cell_type": "code",
   "execution_count": 58,
   "id": "0f908254-3c8e-4746-80f9-7178b4491c70",
   "metadata": {},
   "outputs": [
    {
     "data": {
      "text/plain": [
       "['Gom', 'ren', 'Jan', 'men', 'Jyo', 'Pra']"
      ]
     },
     "execution_count": 58,
     "metadata": {},
     "output_type": "execute_result"
    }
   ],
   "source": [
    "x= [\"Pra\", \"Jyo\", \"men\", \"Jan\", \"ren\", \"Gom\"]\n",
    "x.reverse()\n",
    "x"
   ]
  },
  {
   "cell_type": "code",
   "execution_count": 63,
   "id": "870bac44-de49-43ba-b0eb-09646f271127",
   "metadata": {},
   "outputs": [
    {
     "data": {
      "text/plain": [
       "['Gom', 'ren', 'Jan', 'men', 'Jyo', 'Pra']"
      ]
     },
     "execution_count": 63,
     "metadata": {},
     "output_type": "execute_result"
    }
   ],
   "source": [
    "y = list(x)\n",
    "y"
   ]
  },
  {
   "cell_type": "code",
   "execution_count": 66,
   "id": "bb8385fd-ef93-40a2-a625-7a4c707528c4",
   "metadata": {},
   "outputs": [
    {
     "data": {
      "text/plain": [
       "['Gom', 'ren', 'Jan', 'men', 'Jyo', 'Pra']"
      ]
     },
     "execution_count": 66,
     "metadata": {},
     "output_type": "execute_result"
    }
   ],
   "source": [
    "z = x.copy()\n",
    "z"
   ]
  },
  {
   "cell_type": "code",
   "execution_count": 67,
   "id": "c93e2c4b-c51b-48dd-bb43-cab6687abcd3",
   "metadata": {},
   "outputs": [
    {
     "name": "stdout",
     "output_type": "stream",
     "text": [
      "['Gom', 'ren', 'Jan', 'men', 'Jyo', 'Pra', 'Gom', 'ren', 'Jan', 'men', 'Jyo', 'Pra', 'Gom', 'ren', 'Jan', 'men', 'Jyo', 'Pra']\n"
     ]
    }
   ],
   "source": [
    "a = z+y+z\n",
    "print(a)"
   ]
  },
  {
   "cell_type": "code",
   "execution_count": 80,
   "id": "197d0cf5-ce95-4ecc-8d1b-db513c33ea2f",
   "metadata": {},
   "outputs": [
    {
     "name": "stdout",
     "output_type": "stream",
     "text": [
      "You are eligible to vote\n"
     ]
    }
   ],
   "source": [
    "age = 18\n",
    "if age > 10: \n",
    "    print(\"You are eligible to vote\")\n",
    "else:\n",
    "    print(\"You are minor\")"
   ]
  },
  {
   "cell_type": "code",
   "execution_count": 81,
   "id": "b29ab1f8-fd76-4e69-907f-757e0495d354",
   "metadata": {},
   "outputs": [],
   "source": [
    "# answer aaunu is not a big deal, answer proper aako xa or xaina tyo important xa"
   ]
  },
  {
   "cell_type": "code",
   "execution_count": 82,
   "id": "013d55dd-5297-4baf-87a5-a5844b7cb7cf",
   "metadata": {},
   "outputs": [],
   "source": [
    "#if-starting\n",
    "#elif-bich ma hanna\n",
    "#else-condition rokna\n",
    "\n",
    "# : =colon rakhne ko meaning kehi operation hudai xa"
   ]
  },
  {
   "cell_type": "code",
   "execution_count": 86,
   "id": "ab97a12e-6594-41bd-9c31-a8bcd0bab377",
   "metadata": {},
   "outputs": [
    {
     "name": "stdout",
     "output_type": "stream",
     "text": [
      "I will have frooti\n"
     ]
    }
   ],
   "source": [
    "i_have_50_rupees = 50\n",
    "if i_have_50_rupees > 60:\n",
    "    print(\"I will have coke\")\n",
    "elif i_have_50_rupees > 30:\n",
    "    print(\"I will have frooti\")\n",
    "else:\n",
    "    print(\"I will have chocolate\")"
   ]
  },
  {
   "cell_type": "code",
   "execution_count": 87,
   "id": "c4fafbc5-4510-4240-992f-b6a3a581715c",
   "metadata": {},
   "outputs": [],
   "source": [
    "#practical example: big mart ma 5K bhanda badhi ko purchase garna parda yo command run garna parne"
   ]
  },
  {
   "cell_type": "code",
   "execution_count": 89,
   "id": "f040d0bc-7232-4015-b5fe-67ef0d58e1f6",
   "metadata": {},
   "outputs": [],
   "source": [
    "#short-hand= ekai line ma if function haru hanna paryo bhane\n"
   ]
  },
  {
   "cell_type": "code",
   "execution_count": 92,
   "id": "41ffb3ae-51f6-4f18-a081-889ea9f37312",
   "metadata": {},
   "outputs": [
    {
     "name": "stdout",
     "output_type": "stream",
     "text": [
      " I will have frooti\n"
     ]
    }
   ],
   "source": [
    "i_have_50_rupees = 50\n",
    "print(\"I will have coke\") if i_have_50_rupees > 60 else print(\" I will have frooti\")\n",
    "\n"
   ]
  },
  {
   "cell_type": "code",
   "execution_count": null,
   "id": "f840b567-e195-4e1b-80c0-0ebfe2d55a17",
   "metadata": {},
   "outputs": [],
   "source": []
  },
  {
   "cell_type": "code",
   "execution_count": null,
   "id": "e5edad38-59d6-42b7-8485-709b78775cf6",
   "metadata": {},
   "outputs": [],
   "source": []
  }
 ],
 "metadata": {
  "kernelspec": {
   "display_name": "Python 3 (ipykernel)",
   "language": "python",
   "name": "python3"
  },
  "language_info": {
   "codemirror_mode": {
    "name": "ipython",
    "version": 3
   },
   "file_extension": ".py",
   "mimetype": "text/x-python",
   "name": "python",
   "nbconvert_exporter": "python",
   "pygments_lexer": "ipython3",
   "version": "3.11.7"
  }
 },
 "nbformat": 4,
 "nbformat_minor": 5
}
